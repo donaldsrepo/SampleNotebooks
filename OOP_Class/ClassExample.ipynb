{
 "cells": [
  {
   "cell_type": "code",
   "execution_count": 3,
   "metadata": {},
   "outputs": [],
   "source": [
    "class teenager():\n",
    "    def __init__(self, name, age, status):\n",
    "        self.name = name\n",
    "        self.age = age\n",
    "        self.status = self.change_status(status)\n",
    "        \n",
    "    def change_status(self, new_status):\n",
    "        self.status = new_status\n",
    "        return new_status"
   ]
  },
  {
   "cell_type": "code",
   "execution_count": 4,
   "metadata": {},
   "outputs": [
    {
     "name": "stdout",
     "output_type": "stream",
     "text": [
      "Single\n",
      "Married\n"
     ]
    }
   ],
   "source": [
    "john = teenager('John', 18, 'Single')\n",
    "print(john.status) #result : Single\n",
    "john.change_status('Married')\n",
    "print(john.status) #result : Single (I want 'Married' as the result) "
   ]
  },
  {
   "cell_type": "code",
   "execution_count": null,
   "metadata": {},
   "outputs": [],
   "source": []
  }
 ],
 "metadata": {
  "kernelspec": {
   "display_name": "Python 3",
   "language": "python",
   "name": "python3"
  },
  "language_info": {
   "codemirror_mode": {
    "name": "ipython",
    "version": 3
   },
   "file_extension": ".py",
   "mimetype": "text/x-python",
   "name": "python",
   "nbconvert_exporter": "python",
   "pygments_lexer": "ipython3",
   "version": "3.7.7"
  }
 },
 "nbformat": 4,
 "nbformat_minor": 4
}
