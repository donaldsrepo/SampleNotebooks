{
 "cells": [
  {
   "cell_type": "code",
   "execution_count": 91,
   "metadata": {},
   "outputs": [],
   "source": [
    "text=\"\"\"===================================================================================\n",
    "LogType:container-localizer-syslog\n",
    "Log Upload Time :Thu Jun 25 12:24:45 +0100 2020\n",
    "LogLength:0\n",
    "Log Contents:\n",
    "\n",
    "LogType:stderr\n",
    "Log Upload Time :Thu Jun 25 12:24:52 +0100 2020\n",
    "LogLength:3000\n",
    "Log Contents:\n",
    "20/06/25 12:19:33 INFO datasources.FileScanRDD\n",
    "20/06/25 12:19:40 INFO executor.EXECUTOR: Finished task 18.0 in stage 0.0 (TID 18),18994 bytes result sent to driver.\n",
    "20/06/21 12:19:40 INFO eas\n",
    "20/06/25 12:20:41 WARN Warning as the node is accessed without started\n",
    "\n",
    "===================================================================================\n",
    "LogType:container-localizer-syslog\n",
    "Log Upload Time :Thu Jun 25 12:24:45 +0100 2020\n",
    "LogLength:0\"\"\""
   ]
  },
  {
   "cell_type": "code",
   "execution_count": 92,
   "metadata": {},
   "outputs": [
    {
     "name": "stdout",
     "output_type": "stream",
     "text": [
      "first =================================================================================\n",
      "rest LogType:container-localizer-syslog\n",
      "Log Upload Time :Thu Jun 25 12:24:45 +0100 2020\n",
      "LogLength:0\n",
      "Log Contents:\n",
      "\n",
      "LogType:stderr\n",
      "Log Upload Time :Thu Jun 25 12:24:52 +0100 2020\n",
      "LogLength:3000\n",
      "Log Contents:\n",
      "20/06/25 12:19:33 INFO datasources.FileScanRDD\n",
      "20/06/25 12:19:40 INFO executor.EXECUTOR: Finished task 18.0 in stage 0.0 (TID 18),18994 bytes result sent to driver.\n",
      "20/06/21 12:19:40 INFO eas\n",
      "20/06/25 12:20:41 WARN Warning as the node is accessed without started\n",
      "\n",
      "\n",
      "\n",
      "\n",
      "\n",
      "first =================================================================================\n",
      "rest LogType:container-localizer-syslog\n",
      "Log Upload Time :Thu Jun 25 12:24:45 +0100 2020\n",
      "LogLength:0\n",
      "\n",
      "\n",
      "\n"
     ]
    }
   ],
   "source": [
    "import re\n",
    "\n",
    "results={}\n",
    "#logs = text.split(\"^=\")\n",
    "logs = re.split('^=', text, 0, re.MULTILINE)\n",
    "#print(logs)\n",
    "\n",
    "for log in logs:\n",
    "    #print(len(log))\n",
    "    if (len(log) > 0):\n",
    "        first, rest = log.split('=\\n')\n",
    "        print('first', first)\n",
    "        print('rest',rest)\n",
    "        print(\"\\n\\n\")\n",
    "\n",
    "#first, rest = text.split('=\\n')\n"
   ]
  },
  {
   "cell_type": "code",
   "execution_count": 90,
   "metadata": {},
   "outputs": [
    {
     "data": {
      "text/plain": [
       "'===================================================================================\\nLogType:container-localizer-syslog\\nLog Upload Time :Thu Jun 25 12:24:45 +0100 2020\\nLogLength:0\\nLog Contents:\\n\\nLogType:stderr\\nLog Upload Time :Thu Jun 25 12:24:52 +0100 2020\\nLogLength:3000\\nLog Contents:\\n20/06/25 12:19:33 INFO datasources.FileScanRDD\\n20/06/25 12:19:40 INFO executor.EXECUTOR: Finished task 18.0 in stage 0.0 (TID 18),18994 bytes result sent to driver.\\n20/06/21 12:19:40 INFO eas\\n20/06/25 12:20:41 WARN Warning as the node is accessed without started\\n\\n===================================================================================\\nLogType:container-localizer-syslog\\nLog Upload Time :Thu Jun 25 12:24:45 +0100 2020\\nLogLength:0'"
      ]
     },
     "execution_count": 90,
     "metadata": {},
     "output_type": "execute_result"
    }
   ],
   "source": [
    "text"
   ]
  },
  {
   "cell_type": "code",
   "execution_count": 21,
   "metadata": {},
   "outputs": [
    {
     "data": {
      "text/plain": [
       "'==================================================================================='"
      ]
     },
     "execution_count": 21,
     "metadata": {},
     "output_type": "execute_result"
    }
   ],
   "source": [
    "first, rest  = text.split('\\n', 1)\n",
    "#first, rest  = text.split('$', 1)\n",
    "#first, rest = re.split('=$|\\u2028|\\r\\n|\\r|\\n',text,maxsplit=1)\n",
    "\n",
    "#print(rest)      #rest is the block of data mentioned above\n",
    "results['id'] = first\n",
    "all_log_types = re.compile('^(?=LogType:)',flags=re.MULTILINE).split(rest)\n",
    "print(all_log_types)"
   ]
  },
  {
   "cell_type": "code",
   "execution_count": 22,
   "metadata": {},
   "outputs": [
    {
     "data": {
      "text/plain": [
       "'LogType:container-localizer-syslog\\nLog Upload Time :Thu Jun 25 12:24:45 +0100 2020\\nLogLength:0\\nLog Contents:\\n\\nLogType:stderr\\nLog Upload Time :Thu Jun 25 12:24:52 +0100 2020\\nLogLength:3000\\nLog Contents:\\n20/06/25 12:19:33 INFO datasources.FileScanRDD\\n20/06/25 12:19:40 INFO executor.EXECUTOR: Finished task 18.0 in stage 0.0 (TID 18),18994 bytes result sent to driver.\\n20/06/21 12:19:40 INFO eas\\n20/06/25 12:20:41 WARN Warning as the node is accessed without started'"
      ]
     },
     "execution_count": 22,
     "metadata": {},
     "output_type": "execute_result"
    }
   ],
   "source": [
    "rest"
   ]
  },
  {
   "cell_type": "code",
   "execution_count": null,
   "metadata": {},
   "outputs": [],
   "source": [
    "def parse_container(text,full_text_lines,filter_log_types=None,filter_content_types=None):\n",
    "    results={}\n",
    "\n",
    "    first, rest  = text.split('\\n', 1)\n",
    "   #print(rest)      #rest is the block of data mentioned above\n",
    "    results['id'] = first\n",
    "    all_log_types = re.compile('^(?=LogType:)',flags=re.MULTILINE).split(rest)\n",
    "    print(all_log_types)"
   ]
  },
  {
   "cell_type": "code",
   "execution_count": 72,
   "metadata": {},
   "outputs": [
    {
     "name": "stdout",
     "output_type": "stream",
     "text": [
      "['This is a example string abc', 'xyz this is a ', 'example string']\n"
     ]
    }
   ],
   "source": [
    "s='This is a example string abc=xyz this is a =example string'\n",
    "l=s.split('=')\n",
    "\n",
    "print(l)"
   ]
  },
  {
   "cell_type": "code",
   "execution_count": 73,
   "metadata": {},
   "outputs": [
    {
     "data": {
      "text/plain": [
       "3"
      ]
     },
     "execution_count": 73,
     "metadata": {},
     "output_type": "execute_result"
    }
   ],
   "source": [
    "len(l)"
   ]
  },
  {
   "cell_type": "code",
   "execution_count": 74,
   "metadata": {},
   "outputs": [
    {
     "data": {
      "text/plain": [
       "['This is a example string abc', 'xyz this is a ', 'example string']"
      ]
     },
     "execution_count": 74,
     "metadata": {},
     "output_type": "execute_result"
    }
   ],
   "source": [
    "l"
   ]
  }
 ],
 "metadata": {
  "kernelspec": {
   "display_name": "Python 3",
   "language": "python",
   "name": "python3"
  },
  "language_info": {
   "codemirror_mode": {
    "name": "ipython",
    "version": 3
   },
   "file_extension": ".py",
   "mimetype": "text/x-python",
   "name": "python",
   "nbconvert_exporter": "python",
   "pygments_lexer": "ipython3",
   "version": "3.7.7"
  }
 },
 "nbformat": 4,
 "nbformat_minor": 4
}
