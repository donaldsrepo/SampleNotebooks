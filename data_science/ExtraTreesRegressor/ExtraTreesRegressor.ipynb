{
 "cells": [
  {
   "cell_type": "code",
   "execution_count": 1,
   "metadata": {},
   "outputs": [],
   "source": [
    "import pandas as pd\n",
    "import datetime\n",
    "import time\n",
    "from sklearn.model_selection import GridSearchCV\n",
    "from sklearn.ensemble import ExtraTreesRegressor\n",
    "from sklearn.model_selection import train_test_split\n",
    "\n",
    "class MyTimer():\n",
    "    def __init__(self):\n",
    "        self.start = time.time()\n",
    "    def __enter__(self):\n",
    "        return self\n",
    "    def __exit__(self, exc_type, exc_val, exc_tb):\n",
    "        end = time.time()\n",
    "        runtime = end - self.start\n",
    "        msg = 'The function took {time} seconds to complete'\n",
    "        print(msg.format(time=runtime))\n"
   ]
  },
  {
   "cell_type": "code",
   "execution_count": 2,
   "metadata": {},
   "outputs": [
    {
     "name": "stdout",
     "output_type": "stream",
     "text": [
      "Fitting Model with Train data and default parameters:\n",
      "The function took 3.785903215408325 seconds to complete\n"
     ]
    }
   ],
   "source": [
    "X = pd.read_csv('train.csv')\n",
    "\n",
    "y = X['y'].values\n",
    "X.drop(['ID', 'y'], axis=1, inplace=True)\n",
    "X = pd.get_dummies(X, drop_first=True)\n",
    "\n",
    "X_train, X_test, y_train, y_test = train_test_split(X, y, test_size=0.30, random_state=None, shuffle=True)\n",
    "\n",
    "model = ExtraTreesRegressor(n_estimators=100, n_jobs=4, min_samples_split=25, criterion='mse',\n",
    "                            min_samples_leaf=35, max_features=200)\n",
    "\n",
    "print(\"Fitting Model with Train data and default parameters:\")\n",
    "with MyTimer():                            \n",
    "    model.fit(X_train, y_train)\n"
   ]
  },
  {
   "cell_type": "code",
   "execution_count": 3,
   "metadata": {},
   "outputs": [
    {
     "name": "stdout",
     "output_type": "stream",
     "text": [
      "0.6027001702154409\n"
     ]
    }
   ],
   "source": [
    "print(model.score(X_train, y_train))"
   ]
  },
  {
   "cell_type": "code",
   "execution_count": 4,
   "metadata": {},
   "outputs": [
    {
     "data": {
      "text/plain": [
       "<bound method BaseEstimator.get_params of ExtraTreesRegressor(bootstrap=False, ccp_alpha=0.0, criterion='mse',\n",
       "                    max_depth=None, max_features=200, max_leaf_nodes=None,\n",
       "                    max_samples=None, min_impurity_decrease=0.0,\n",
       "                    min_impurity_split=None, min_samples_leaf=35,\n",
       "                    min_samples_split=25, min_weight_fraction_leaf=0.0,\n",
       "                    n_estimators=100, n_jobs=4, oob_score=False,\n",
       "                    random_state=None, verbose=0, warm_start=False)>"
      ]
     },
     "execution_count": 4,
     "metadata": {},
     "output_type": "execute_result"
    }
   ],
   "source": [
    "model.get_params"
   ]
  },
  {
   "cell_type": "markdown",
   "metadata": {},
   "source": [
    "<pre>\n",
    "possible list of parameters: \n",
    "model.get_params\n",
    "lt& bound method BaseEstimator.get_params of ExtraTreesRegressor(bootstrap=False, ccp_alpha=0.0, criterion='mse',\n",
    "                    max_depth=None, max_features=200, max_leaf_nodes=None,\n",
    "                    max_samples=None, min_impurity_decrease=0.0,\n",
    "                    min_impurity_split=None, min_samples_leaf=35,\n",
    "                    min_samples_split=25, min_weight_fraction_leaf=0.0,\n",
    "                    n_estimators=100, n_jobs=4, oob_score=False,\n",
    "                    random_state=None, verbose=0, warm_start=False)>'''"
   ]
  },
  {
   "cell_type": "code",
   "execution_count": 5,
   "metadata": {},
   "outputs": [
    {
     "name": "stdout",
     "output_type": "stream",
     "text": [
      "Running GridSearchCV:\n",
      "The function took 131.70337557792664 seconds to complete\n",
      "Best: 0.565444 using {'max_features': 150}\n",
      "Test : 0.560649 with: {'max_features': 50}\n",
      "Test : 0.564362 with: {'max_features': 100}\n",
      "Test : 0.565444 with: {'max_features': 150}\n",
      "Test : 0.564576 with: {'max_features': 200}\n",
      "Test : 0.563906 with: {'max_features': 250}\n",
      "Test : 0.562400 with: {'max_features': 300}\n",
      "Test : 0.561442 with: {'max_features': 350}\n",
      "Test : 0.559104 with: {'max_features': 400}\n",
      "Fitting Model with GridSearch and Cross Validation:\n",
      "0.9783994053044038\n"
     ]
    }
   ],
   "source": [
    "gsc = GridSearchCV(\n",
    "    estimator=model,\n",
    "    param_grid={\n",
    "        #'n_estimators': range(50,126,25),\n",
    "        'max_features': range(50,401,50),\n",
    "        #'max_features': [50,100], # can be list or range or other\n",
    "        #'criterion':['mse','mae']\n",
    "        #min_samples_leaf': range(20,50,5),\n",
    "        #min_samples_split': range(15,36,5),\n",
    "    },\n",
    "    scoring='r2',\n",
    "    #scoring='neg_mean_squared_error', # or look here for other choices \n",
    "    # https://scikit-learn.org/stable/modules/model_evaluation.html#scoring-parameter\n",
    "    cv=5\n",
    ")\n",
    "\n",
    "print(\"Running GridSearchCV:\")\n",
    "with MyTimer():    \n",
    "    grid_result = gsc.fit(X_train, y_train)\n",
    "\n",
    "print(\"Best: %f using %s\" % (grid_result.best_score_, grid_result.best_params_))\n",
    "\n",
    "#for test_mean, train_mean, param in zip(\n",
    "for test_mean, param in zip(\n",
    "        grid_result.cv_results_['mean_test_score'],\n",
    "        #grid_result.cv_results_['mean_train_score'],\n",
    "        grid_result.cv_results_['params']):\n",
    "    print(\"Test : %f with: %r\" % (test_mean, param))\n",
    "    \n",
    "model = ExtraTreesRegressor(**grid_result.best_params_)\n",
    "\n",
    "print(\"Fitting Model with GridSearch and Cross Validation:\")\n",
    "model.fit(X_train, y_train)\n",
    "\n",
    "print(model.score(X_train, y_train))\n",
    "\n",
    "#df_sub = pd.DataFrame({'ID': id_test, 'y': model.predict(test)})\n",
    "#df_sub.to_csv('mercedes-submission.csv', index=False)"
   ]
  },
  {
   "cell_type": "code",
   "execution_count": 6,
   "metadata": {},
   "outputs": [
    {
     "name": "stdout",
     "output_type": "stream",
     "text": [
      "True Model Score:\n",
      "0.4346292637881207\n"
     ]
    }
   ],
   "source": [
    "print(\"True Model Score:\")\n",
    "print(model.score(X_test, y_test))"
   ]
  },
  {
   "cell_type": "code",
   "execution_count": 7,
   "metadata": {},
   "outputs": [
    {
     "data": {
      "text/plain": [
       "GridSearchCV(cv=5, error_score=nan,\n",
       "             estimator=ExtraTreesRegressor(bootstrap=False, ccp_alpha=0.0,\n",
       "                                           criterion='mse', max_depth=None,\n",
       "                                           max_features=200,\n",
       "                                           max_leaf_nodes=None,\n",
       "                                           max_samples=None,\n",
       "                                           min_impurity_decrease=0.0,\n",
       "                                           min_impurity_split=None,\n",
       "                                           min_samples_leaf=35,\n",
       "                                           min_samples_split=25,\n",
       "                                           min_weight_fraction_leaf=0.0,\n",
       "                                           n_estimators=100, n_jobs=4,\n",
       "                                           oob_score=False, random_state=None,\n",
       "                                           verbose=0, warm_start=False),\n",
       "             iid='deprecated', n_jobs=None,\n",
       "             param_grid={'max_features': range(50, 401, 50)},\n",
       "             pre_dispatch='2*n_jobs', refit=True, return_train_score=False,\n",
       "             scoring='r2', verbose=0)"
      ]
     },
     "execution_count": 7,
     "metadata": {},
     "output_type": "execute_result"
    }
   ],
   "source": [
    "grid_result"
   ]
  }
 ],
 "metadata": {
  "kernelspec": {
   "display_name": "Python 3",
   "language": "python",
   "name": "python3"
  },
  "language_info": {
   "codemirror_mode": {
    "name": "ipython",
    "version": 3
   },
   "file_extension": ".py",
   "mimetype": "text/x-python",
   "name": "python",
   "nbconvert_exporter": "python",
   "pygments_lexer": "ipython3",
   "version": "3.7.7"
  }
 },
 "nbformat": 4,
 "nbformat_minor": 4
}
