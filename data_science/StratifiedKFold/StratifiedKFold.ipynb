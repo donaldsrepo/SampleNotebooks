{
 "cells": [
  {
   "cell_type": "code",
   "execution_count": 16,
   "metadata": {},
   "outputs": [
    {
     "name": "stdout",
     "output_type": "stream",
     "text": [
      "[1, 1, 1, 4, 4, 4]\n",
      "Categories (4, object): [1 < 2 < 3 < 4]\n",
      "(3,)\n",
      "(3,)\n"
     ]
    }
   ],
   "source": [
    "import numpy as np\n",
    "from sklearn.model_selection import StratifiedKFold\n",
    "from tensorflow.keras.layers import Input,Dense,ZeroPadding1D ,Conv1D, MaxPooling1D, UpSampling1D, Flatten, Input, Dropout, BatchNormalization\n",
    "from tensorflow.keras import optimizers, Model\n",
    "import matplotlib.pyplot as plt\n",
    "from tensorflow.keras import backend as K\n",
    "from keras import regularizers\n",
    "from numpy import zeros, newaxis\n",
    "import pandas as pd\n",
    "\n",
    "X = [1,1,3,2,4,1]\n",
    "Y = [1.2,1.3,1.1,2.0,2.2,2.1]\n",
    "\n",
    "fold = 0\n",
    "# define 10-fold cross validation test harness\n",
    "kfold = StratifiedKFold(n_splits=2, shuffle=True, random_state=42)\n",
    "\n",
    "# for binning a float value. kfold requires categorical label data\n",
    "Y=pd.cut(Y, bins=4, labels=['1','2','3','4'])\n",
    "print(Y)\n",
    "\n",
    "\n",
    "for train, test in kfold.split(X, Y):\n",
    "    print(train.shape)\n",
    "    \n",
    "    "
   ]
  },
  {
   "cell_type": "code",
   "execution_count": null,
   "metadata": {},
   "outputs": [],
   "source": []
  }
 ],
 "metadata": {
  "kernelspec": {
   "display_name": "Python 3",
   "language": "python",
   "name": "python3"
  },
  "language_info": {
   "codemirror_mode": {
    "name": "ipython",
    "version": 3
   },
   "file_extension": ".py",
   "mimetype": "text/x-python",
   "name": "python",
   "nbconvert_exporter": "python",
   "pygments_lexer": "ipython3",
   "version": "3.7.7"
  }
 },
 "nbformat": 4,
 "nbformat_minor": 4
}
