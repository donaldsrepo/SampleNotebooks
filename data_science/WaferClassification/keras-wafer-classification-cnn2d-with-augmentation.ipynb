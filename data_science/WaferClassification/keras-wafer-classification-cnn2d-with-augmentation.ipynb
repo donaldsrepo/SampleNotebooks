{
 "cells": [
  {
   "cell_type": "markdown",
   "metadata": {
    "_cell_guid": "94dd8eb2-9956-4592-9921-6ecc2a8b05b8",
    "_uuid": "663c2e5dded11c88a0ec1ec0970051048bec4f3c"
   },
   "source": [
    "## Introduction\n",
    "Hi, It's my first dataset kernel. <br>\n",
    "This kernel forked from WM-811k Wafermap[https://www.kaggle.com/ashishpatel26/wm-811k-wafermap].<br>\n",
    "This dataset has various wafer resolution with class imbalanced. so I just consider specific subset wafer that has 26x26 resolution.<br> \n",
    "and solve imbalance problem using 2D convolutional autoencoder. then, classfy faulty case labels."
   ]
  },
  {
   "cell_type": "code",
   "execution_count": 1,
   "metadata": {
    "_cell_guid": "b1076dfc-b9ad-4769-8c92-a6c4dae69d19",
    "_uuid": "8f2839f25d086af736a60e9eeb907d3b93b6e0e5"
   },
   "outputs": [
    {
     "name": "stderr",
     "output_type": "stream",
     "text": [
      "Using TensorFlow backend.\n"
     ]
    },
    {
     "name": "stdout",
     "output_type": "stream",
     "text": [
      "['LSWMD.pkl']\n"
     ]
    }
   ],
   "source": [
    "import os\n",
    "from os.path import join\n",
    "\n",
    "import numpy as np\n",
    "import pandas as pd\n",
    "\n",
    "import tensorflow as tf\n",
    "import keras\n",
    "from keras import layers, Input, models\n",
    "from keras.utils import to_categorical\n",
    "from keras.wrappers.scikit_learn import KerasClassifier \n",
    "from sklearn.model_selection import KFold \n",
    "from sklearn.model_selection import cross_val_score\n",
    "\n",
    "from sklearn.model_selection import train_test_split\n",
    "\n",
    "import matplotlib.pyplot as plt\n",
    "\n",
    "datapath = join('data', 'wafer')\n",
    "\n",
    "print(os.listdir(\"../input\"))\n",
    "import warnings\n",
    "warnings.filterwarnings(\"ignore\")"
   ]
  },
  {
   "cell_type": "markdown",
   "metadata": {
    "_cell_guid": "2f3f3b9c-ef8b-4e10-80d2-95d3f5fb13b4",
    "_uuid": "bfea8c944ea6ab74cb51b52b017545698fc4eef5"
   },
   "source": [
    "### Read data"
   ]
  },
  {
   "cell_type": "code",
   "execution_count": 2,
   "metadata": {
    "_cell_guid": "79c7e3d0-c299-4dcb-8224-4455121ee9b0",
    "_uuid": "d629ff2d2480ee46fbb7e2d37f6b5fab8052498a"
   },
   "outputs": [
    {
     "name": "stdout",
     "output_type": "stream",
     "text": [
      "<class 'pandas.core.frame.DataFrame'>\n",
      "RangeIndex: 811457 entries, 0 to 811456\n",
      "Data columns (total 6 columns):\n",
      "waferMap          811457 non-null object\n",
      "dieSize           811457 non-null float64\n",
      "lotName           811457 non-null object\n",
      "waferIndex        811457 non-null float64\n",
      "trianTestLabel    811457 non-null object\n",
      "failureType       811457 non-null object\n",
      "dtypes: float64(2), object(4)\n",
      "memory usage: 37.1+ MB\n"
     ]
    }
   ],
   "source": [
    "df=pd.read_pickle(\"../input/LSWMD.pkl\")\n",
    "df.info()"
   ]
  },
  {
   "cell_type": "markdown",
   "metadata": {
    "_cell_guid": "8bf109c0-3b2d-47bf-8a24-46ef9f96f76a",
    "_uuid": "ccb0182b1e53af50d3074e345c19b24df2d379e8"
   },
   "source": [
    "* The dataset comprises **811,457 wafer maps**, along with additional information such as **wafer die size**, **lot name** and **wafer index**. \n",
    "\n",
    "* The training / test set were already split by domain experts, but in this kernel we ignore this info and we re-divided the dataset into training set and test set by hold-out mehtod which will be introduced in later section."
   ]
  },
  {
   "cell_type": "markdown",
   "metadata": {
    "_cell_guid": "e31771e9-b0d9-4409-aca5-7b079de9e1e0",
    "_uuid": "13c436c2465c6b8818d32e7243dada3ee4bb40e7"
   },
   "source": [
    ">Target distribution"
   ]
  },
  {
   "cell_type": "code",
   "execution_count": 3,
   "metadata": {
    "_cell_guid": "68f6fd95-8687-450f-827b-418cc7143362",
    "_uuid": "6bb42da7f6371cdc7c624d67d29cb3ed395c7393"
   },
   "outputs": [
    {
     "data": {
      "text/html": [
       "<div>\n",
       "<style scoped>\n",
       "    .dataframe tbody tr th:only-of-type {\n",
       "        vertical-align: middle;\n",
       "    }\n",
       "\n",
       "    .dataframe tbody tr th {\n",
       "        vertical-align: top;\n",
       "    }\n",
       "\n",
       "    .dataframe thead th {\n",
       "        text-align: right;\n",
       "    }\n",
       "</style>\n",
       "<table border=\"1\" class=\"dataframe\">\n",
       "  <thead>\n",
       "    <tr style=\"text-align: right;\">\n",
       "      <th></th>\n",
       "      <th>waferMap</th>\n",
       "      <th>dieSize</th>\n",
       "      <th>lotName</th>\n",
       "      <th>waferIndex</th>\n",
       "      <th>trianTestLabel</th>\n",
       "      <th>failureType</th>\n",
       "    </tr>\n",
       "  </thead>\n",
       "  <tbody>\n",
       "    <tr>\n",
       "      <th>0</th>\n",
       "      <td>[[0, 0, 0, 0, 0, 0, 0, 0, 0, 0, 0, 0, 0, 0, 0,...</td>\n",
       "      <td>1683.0</td>\n",
       "      <td>lot1</td>\n",
       "      <td>1.0</td>\n",
       "      <td>[[Training]]</td>\n",
       "      <td>[[none]]</td>\n",
       "    </tr>\n",
       "    <tr>\n",
       "      <th>1</th>\n",
       "      <td>[[0, 0, 0, 0, 0, 0, 0, 0, 0, 0, 0, 0, 0, 0, 0,...</td>\n",
       "      <td>1683.0</td>\n",
       "      <td>lot1</td>\n",
       "      <td>2.0</td>\n",
       "      <td>[[Training]]</td>\n",
       "      <td>[[none]]</td>\n",
       "    </tr>\n",
       "    <tr>\n",
       "      <th>2</th>\n",
       "      <td>[[0, 0, 0, 0, 0, 0, 0, 0, 0, 0, 0, 0, 0, 0, 0,...</td>\n",
       "      <td>1683.0</td>\n",
       "      <td>lot1</td>\n",
       "      <td>3.0</td>\n",
       "      <td>[[Training]]</td>\n",
       "      <td>[[none]]</td>\n",
       "    </tr>\n",
       "    <tr>\n",
       "      <th>3</th>\n",
       "      <td>[[0, 0, 0, 0, 0, 0, 0, 0, 0, 0, 0, 0, 0, 0, 0,...</td>\n",
       "      <td>1683.0</td>\n",
       "      <td>lot1</td>\n",
       "      <td>4.0</td>\n",
       "      <td>[[Training]]</td>\n",
       "      <td>[[none]]</td>\n",
       "    </tr>\n",
       "    <tr>\n",
       "      <th>4</th>\n",
       "      <td>[[0, 0, 0, 0, 0, 0, 0, 0, 0, 0, 0, 0, 0, 0, 0,...</td>\n",
       "      <td>1683.0</td>\n",
       "      <td>lot1</td>\n",
       "      <td>5.0</td>\n",
       "      <td>[[Training]]</td>\n",
       "      <td>[[none]]</td>\n",
       "    </tr>\n",
       "  </tbody>\n",
       "</table>\n",
       "</div>"
      ],
      "text/plain": [
       "                                            waferMap     ...       failureType\n",
       "0  [[0, 0, 0, 0, 0, 0, 0, 0, 0, 0, 0, 0, 0, 0, 0,...     ...          [[none]]\n",
       "1  [[0, 0, 0, 0, 0, 0, 0, 0, 0, 0, 0, 0, 0, 0, 0,...     ...          [[none]]\n",
       "2  [[0, 0, 0, 0, 0, 0, 0, 0, 0, 0, 0, 0, 0, 0, 0,...     ...          [[none]]\n",
       "3  [[0, 0, 0, 0, 0, 0, 0, 0, 0, 0, 0, 0, 0, 0, 0,...     ...          [[none]]\n",
       "4  [[0, 0, 0, 0, 0, 0, 0, 0, 0, 0, 0, 0, 0, 0, 0,...     ...          [[none]]\n",
       "\n",
       "[5 rows x 6 columns]"
      ]
     },
     "execution_count": 3,
     "metadata": {},
     "output_type": "execute_result"
    }
   ],
   "source": [
    "df.head()"
   ]
  },
  {
   "cell_type": "code",
   "execution_count": 4,
   "metadata": {
    "_cell_guid": "26296434-bb94-4600-ac5c-e60052540fc2",
    "_uuid": "81b4438880a465265144c4189c8e79457329604e"
   },
   "outputs": [
    {
     "data": {
      "text/html": [
       "<div>\n",
       "<style scoped>\n",
       "    .dataframe tbody tr th:only-of-type {\n",
       "        vertical-align: middle;\n",
       "    }\n",
       "\n",
       "    .dataframe tbody tr th {\n",
       "        vertical-align: top;\n",
       "    }\n",
       "\n",
       "    .dataframe thead th {\n",
       "        text-align: right;\n",
       "    }\n",
       "</style>\n",
       "<table border=\"1\" class=\"dataframe\">\n",
       "  <thead>\n",
       "    <tr style=\"text-align: right;\">\n",
       "      <th></th>\n",
       "      <th>waferMap</th>\n",
       "      <th>dieSize</th>\n",
       "      <th>lotName</th>\n",
       "      <th>waferIndex</th>\n",
       "      <th>trianTestLabel</th>\n",
       "      <th>failureType</th>\n",
       "    </tr>\n",
       "  </thead>\n",
       "  <tbody>\n",
       "    <tr>\n",
       "      <th>811452</th>\n",
       "      <td>[[0, 0, 0, 0, 0, 0, 0, 0, 0, 0, 0, 1, 2, 1, 1,...</td>\n",
       "      <td>600.0</td>\n",
       "      <td>lot47542</td>\n",
       "      <td>23.0</td>\n",
       "      <td>[[Test]]</td>\n",
       "      <td>[[Edge-Ring]]</td>\n",
       "    </tr>\n",
       "    <tr>\n",
       "      <th>811453</th>\n",
       "      <td>[[0, 0, 0, 0, 0, 0, 0, 0, 0, 0, 0, 2, 2, 1, 1,...</td>\n",
       "      <td>600.0</td>\n",
       "      <td>lot47542</td>\n",
       "      <td>24.0</td>\n",
       "      <td>[[Test]]</td>\n",
       "      <td>[[Edge-Loc]]</td>\n",
       "    </tr>\n",
       "    <tr>\n",
       "      <th>811454</th>\n",
       "      <td>[[0, 0, 0, 0, 0, 0, 0, 0, 0, 0, 0, 1, 2, 1, 1,...</td>\n",
       "      <td>600.0</td>\n",
       "      <td>lot47542</td>\n",
       "      <td>25.0</td>\n",
       "      <td>[[Test]]</td>\n",
       "      <td>[[Edge-Ring]]</td>\n",
       "    </tr>\n",
       "    <tr>\n",
       "      <th>811455</th>\n",
       "      <td>[[0, 0, 0, 0, 0, 0, 0, 0, 0, 0, 0, 1, 1, 1, 1,...</td>\n",
       "      <td>600.0</td>\n",
       "      <td>lot47543</td>\n",
       "      <td>1.0</td>\n",
       "      <td>[]</td>\n",
       "      <td>[]</td>\n",
       "    </tr>\n",
       "    <tr>\n",
       "      <th>811456</th>\n",
       "      <td>[[0, 0, 0, 0, 0, 0, 0, 0, 0, 0, 0, 1, 2, 1, 1,...</td>\n",
       "      <td>600.0</td>\n",
       "      <td>lot47543</td>\n",
       "      <td>2.0</td>\n",
       "      <td>[]</td>\n",
       "      <td>[]</td>\n",
       "    </tr>\n",
       "  </tbody>\n",
       "</table>\n",
       "</div>"
      ],
      "text/plain": [
       "                                                 waferMap      ...          failureType\n",
       "811452  [[0, 0, 0, 0, 0, 0, 0, 0, 0, 0, 0, 1, 2, 1, 1,...      ...        [[Edge-Ring]]\n",
       "811453  [[0, 0, 0, 0, 0, 0, 0, 0, 0, 0, 0, 2, 2, 1, 1,...      ...         [[Edge-Loc]]\n",
       "811454  [[0, 0, 0, 0, 0, 0, 0, 0, 0, 0, 0, 1, 2, 1, 1,...      ...        [[Edge-Ring]]\n",
       "811455  [[0, 0, 0, 0, 0, 0, 0, 0, 0, 0, 0, 1, 1, 1, 1,...      ...                   []\n",
       "811456  [[0, 0, 0, 0, 0, 0, 0, 0, 0, 0, 0, 1, 2, 1, 1,...      ...                   []\n",
       "\n",
       "[5 rows x 6 columns]"
      ]
     },
     "execution_count": 4,
     "metadata": {},
     "output_type": "execute_result"
    }
   ],
   "source": [
    "df.tail()"
   ]
  },
  {
   "cell_type": "markdown",
   "metadata": {
    "_cell_guid": "52208541-773a-45f5-be24-899d039d9b2f",
    "_uuid": "618dde07841b5a5f405082bdcdec0ddd25f2d7d2"
   },
   "source": [
    "* The dataset were collected from **47,543 lots** in real-world fab. However, **47,543 lots x 25 wafer/lot =1,157,325 wafer maps ** is larger than **811,457 wafer maps**. \n",
    "\n",
    "* Let's see what happened. "
   ]
  },
  {
   "cell_type": "code",
   "execution_count": 5,
   "metadata": {
    "_cell_guid": "6f939db7-e348-418c-bad1-596881441789",
    "_uuid": "b2dcf6fdd761ba3782b88a45f5592df200bd35ba"
   },
   "outputs": [
    {
     "data": {
      "image/png": "[encoded data removed]",
      "text/plain": [
       "<Figure size 432x288 with 1 Axes>"
      ]
     },
     "metadata": {},
     "output_type": "display_data"
    }
   ],
   "source": [
    "import matplotlib.pyplot as plt\n",
    "%matplotlib inline\n",
    "\n",
    "\n",
    "uni_Index=np.unique(df.waferIndex, return_counts=True)\n",
    "plt.bar(uni_Index[0],uni_Index[1], color='gold', align='center', alpha=0.5)\n",
    "plt.title(\" wafer Index distribution\")\n",
    "plt.xlabel(\"index #\")\n",
    "plt.ylabel(\"frequency\")\n",
    "plt.xlim(0,26)\n",
    "plt.ylim(30000,34000)\n",
    "plt.show()"
   ]
  },
  {
   "cell_type": "markdown",
   "metadata": {
    "_cell_guid": "214e64f2-f6bb-4e24-ba37-8fbb38a16783",
    "_uuid": "9557dd2de53306c5067375d07bb436b32aaa2d8a"
   },
   "source": [
    "* The figure shows that not all lots have perfect 25 wafer maps and it may caused by **sensor failure** or other unknown problems.\n",
    "\n",
    "* Fortunately, we do not need wafer index feature in our classification so we can just drop the variable. "
   ]
  },
  {
   "cell_type": "code",
   "execution_count": 6,
   "metadata": {
    "_cell_guid": "b9b24bdd-8fb9-463e-bf28-c4ebeed7ae4d",
    "_uuid": "652a9c89d538962295917acbfcde37a88b7337f1"
   },
   "outputs": [],
   "source": [
    "df = df.drop(['waferIndex'], axis = 1)"
   ]
  },
  {
   "cell_type": "markdown",
   "metadata": {
    "_cell_guid": "e86335f3-3638-4b36-8bca-9b0ec737523d",
    "_uuid": "628531a50954a68c3abb6519ac7f7f4c294fa20b"
   },
   "source": [
    "* We can not get much information from the wafer map column but we can see the die size for each instance is different. \n",
    "\n",
    "* We create a new variable **'waferMapDim'** for wafer map dim checking.\n"
   ]
  },
  {
   "cell_type": "code",
   "execution_count": 7,
   "metadata": {
    "_cell_guid": "846afbcf-dc89-4f69-9def-512eaa64b533",
    "_uuid": "a06d8b69be3752f5035e6ca1ffe841e0c9a761ad"
   },
   "outputs": [
    {
     "data": {
      "text/html": [
       "<div>\n",
       "<style scoped>\n",
       "    .dataframe tbody tr th:only-of-type {\n",
       "        vertical-align: middle;\n",
       "    }\n",
       "\n",
       "    .dataframe tbody tr th {\n",
       "        vertical-align: top;\n",
       "    }\n",
       "\n",
       "    .dataframe thead th {\n",
       "        text-align: right;\n",
       "    }\n",
       "</style>\n",
       "<table border=\"1\" class=\"dataframe\">\n",
       "  <thead>\n",
       "    <tr style=\"text-align: right;\">\n",
       "      <th></th>\n",
       "      <th>waferMap</th>\n",
       "      <th>dieSize</th>\n",
       "      <th>lotName</th>\n",
       "      <th>trianTestLabel</th>\n",
       "      <th>failureType</th>\n",
       "      <th>waferMapDim</th>\n",
       "    </tr>\n",
       "  </thead>\n",
       "  <tbody>\n",
       "    <tr>\n",
       "      <th>287439</th>\n",
       "      <td>[[0, 0, 0, 0, 0, 0, 0, 0, 0, 0, 0, 0, 0, 0, 0,...</td>\n",
       "      <td>2367.0</td>\n",
       "      <td>lot17523</td>\n",
       "      <td>[]</td>\n",
       "      <td>[]</td>\n",
       "      <td>(51, 59)</td>\n",
       "    </tr>\n",
       "    <tr>\n",
       "      <th>224238</th>\n",
       "      <td>[[0, 0, 0, 0, 0, 0, 0, 0, 0, 0, 0, 0, 0, 0, 0,...</td>\n",
       "      <td>1233.0</td>\n",
       "      <td>lot14106</td>\n",
       "      <td>[]</td>\n",
       "      <td>[]</td>\n",
       "      <td>(41, 38)</td>\n",
       "    </tr>\n",
       "    <tr>\n",
       "      <th>687727</th>\n",
       "      <td>[[0, 0, 0, 0, 0, 0, 0, 0, 0, 0, 0, 0, 0, 0, 0,...</td>\n",
       "      <td>1233.0</td>\n",
       "      <td>lot42525</td>\n",
       "      <td>[[Test]]</td>\n",
       "      <td>[[none]]</td>\n",
       "      <td>(41, 38)</td>\n",
       "    </tr>\n",
       "    <tr>\n",
       "      <th>572100</th>\n",
       "      <td>[[0, 0, 0, 0, 0, 0, 0, 0, 0, 0, 0, 0, 1, 1, 2,...</td>\n",
       "      <td>712.0</td>\n",
       "      <td>lot35805</td>\n",
       "      <td>[]</td>\n",
       "      <td>[]</td>\n",
       "      <td>(32, 29)</td>\n",
       "    </tr>\n",
       "    <tr>\n",
       "      <th>527799</th>\n",
       "      <td>[[0, 0, 0, 0, 0, 0, 0, 0, 0, 0, 0, 0, 0, 0, 1,...</td>\n",
       "      <td>733.0</td>\n",
       "      <td>lot33026</td>\n",
       "      <td>[]</td>\n",
       "      <td>[]</td>\n",
       "      <td>(31, 31)</td>\n",
       "    </tr>\n",
       "  </tbody>\n",
       "</table>\n",
       "</div>"
      ],
      "text/plain": [
       "                                                 waferMap     ...       waferMapDim\n",
       "287439  [[0, 0, 0, 0, 0, 0, 0, 0, 0, 0, 0, 0, 0, 0, 0,...     ...          (51, 59)\n",
       "224238  [[0, 0, 0, 0, 0, 0, 0, 0, 0, 0, 0, 0, 0, 0, 0,...     ...          (41, 38)\n",
       "687727  [[0, 0, 0, 0, 0, 0, 0, 0, 0, 0, 0, 0, 0, 0, 0,...     ...          (41, 38)\n",
       "572100  [[0, 0, 0, 0, 0, 0, 0, 0, 0, 0, 0, 0, 1, 1, 2,...     ...          (32, 29)\n",
       "527799  [[0, 0, 0, 0, 0, 0, 0, 0, 0, 0, 0, 0, 0, 0, 1,...     ...          (31, 31)\n",
       "\n",
       "[5 rows x 6 columns]"
      ]
     },
     "execution_count": 7,
     "metadata": {},
     "output_type": "execute_result"
    }
   ],
   "source": [
    "def find_dim(x):\n",
    "    dim0=np.size(x,axis=0)\n",
    "    dim1=np.size(x,axis=1)\n",
    "    return dim0,dim1\n",
    "df['waferMapDim']=df.waferMap.apply(find_dim)\n",
    "df.sample(5)"
   ]
  },
  {
   "cell_type": "markdown",
   "metadata": {
    "_uuid": "086c1b71572f6fd53125b678c36a09b70f5b78e5"
   },
   "source": [
    "## Get sub wafer with specific resolution.\n",
    "get wafers have (26, 26) resolution. rarrange wafer nd-array with fautly case label.<br>\n",
    "some wafer has null label, skip it."
   ]
  },
  {
   "cell_type": "code",
   "execution_count": 8,
   "metadata": {
    "_uuid": "fa9606d1040c197ad78c7555e6068ed53efe4fd7"
   },
   "outputs": [],
   "source": [
    "sub_df = df.loc[df['waferMapDim'] == (26, 26)]\n",
    "sub_wafer = sub_df['waferMap'].values\n",
    "\n",
    "sw = np.ones((1, 26, 26))\n",
    "label = list()\n",
    "\n",
    "for i in range(len(sub_df)):\n",
    "    # skip null label\n",
    "    if len(sub_df.iloc[i,:]['failureType']) == 0:\n",
    "        continue\n",
    "    sw = np.concatenate((sw, sub_df.iloc[i,:]['waferMap'].reshape(1, 26, 26)))\n",
    "    label.append(sub_df.iloc[i,:]['failureType'][0][0])"
   ]
  },
  {
   "cell_type": "code",
   "execution_count": 9,
   "metadata": {
    "_uuid": "5765b78a2511d60df7b26ba1c92f23adea0af8f3"
   },
   "outputs": [],
   "source": [
    "x = sw[1:]\n",
    "y = np.array(label).reshape((-1,1))"
   ]
  },
  {
   "cell_type": "code",
   "execution_count": 10,
   "metadata": {
    "_uuid": "3661e44b7a4a26623a4df3ad0a510ccef4c1f1c0"
   },
   "outputs": [
    {
     "name": "stdout",
     "output_type": "stream",
     "text": [
      "x shape : (14366, 26, 26), y shape : (14366, 1)\n"
     ]
    }
   ],
   "source": [
    "# check dimension\n",
    "print('x shape : {}, y shape : {}'.format(x.shape, y.shape))"
   ]
  },
  {
   "cell_type": "markdown",
   "metadata": {
    "_uuid": "ca2f81247e530991918c44fb2e38a56b01493f00"
   },
   "source": [
    "plot 1st data for check."
   ]
  },
  {
   "cell_type": "code",
   "execution_count": 11,
   "metadata": {
    "_uuid": "26ce470baf87a73737b28792e8de5990c8d40d1f"
   },
   "outputs": [
    {
     "data": {
      "image/png": "[encoded data removed]",
      "text/plain": [
       "<Figure size 432x288 with 1 Axes>"
      ]
     },
     "metadata": {},
     "output_type": "display_data"
    },
    {
     "name": "stdout",
     "output_type": "stream",
     "text": [
      "Faulty case : ['none'] \n"
     ]
    }
   ],
   "source": [
    "# plot 1st data\n",
    "plt.imshow(x[0])\n",
    "plt.show()\n",
    "\n",
    "# check faulty case\n",
    "print('Faulty case : {} '.format(y[0]))"
   ]
  },
  {
   "cell_type": "markdown",
   "metadata": {
    "_uuid": "f7714e354e0a9f386112623c1a1c1bd8ee301fa8"
   },
   "source": [
    "We will use 2D Convolutional Autoencoder, extend dimension for channel."
   ]
  },
  {
   "cell_type": "code",
   "execution_count": 12,
   "metadata": {
    "_uuid": "f4b488120f5dac6244746461863227305e0ce818"
   },
   "outputs": [],
   "source": [
    "#add channel\n",
    "x = x.reshape((-1, 26, 26, 1))"
   ]
  },
  {
   "cell_type": "markdown",
   "metadata": {
    "_uuid": "349017c33b1b3cac4003eeee862cee110285c42e"
   },
   "source": [
    "Make faulty case list, and check how classes imbalanced."
   ]
  },
  {
   "cell_type": "code",
   "execution_count": 13,
   "metadata": {
    "_uuid": "061124b48c79ec4e0255a64664abb37dbbfdf163"
   },
   "outputs": [
    {
     "name": "stdout",
     "output_type": "stream",
     "text": [
      "Faulty case list : ['Center' 'Donut' 'Edge-Loc' 'Edge-Ring' 'Loc' 'Near-full' 'Random'\n",
      " 'Scratch' 'none']\n"
     ]
    }
   ],
   "source": [
    "faulty_case = np.unique(y)\n",
    "print('Faulty case list : {}'.format(faulty_case))"
   ]
  },
  {
   "cell_type": "code",
   "execution_count": 14,
   "metadata": {
    "_uuid": "85080e6018ed8b1e1e68dbcdf6177fb7a8a92213"
   },
   "outputs": [
    {
     "name": "stdout",
     "output_type": "stream",
     "text": [
      "Center : 90\n",
      "Donut : 1\n",
      "Edge-Loc : 296\n",
      "Edge-Ring : 31\n",
      "Loc : 297\n",
      "Near-full : 16\n",
      "Random : 74\n",
      "Scratch : 72\n",
      "none : 13489\n"
     ]
    }
   ],
   "source": [
    "for f in faulty_case :\n",
    "    print('{} : {}'.format(f, len(y[y==f])))"
   ]
  },
  {
   "cell_type": "markdown",
   "metadata": {
    "_uuid": "54fe282fe0dfc4823f9edd973236530b096c01b8"
   },
   "source": [
    "Wafer data's each pixels have a categorical variable that express 0 : not wafer, 1 : normal, 2 : faulty. <br>\n",
    "Extend extra dimension with one-hot-encoded categorical data as channel. <br>\n",
    "**that idea from Data Science & Business Analytics Lab, School of Industrial Management Engineering, College of Engineering, Korea University**[http://dsba.korea.ac.kr/main]"
   ]
  },
  {
   "cell_type": "code",
   "execution_count": 15,
   "metadata": {
    "_uuid": "f1699363f1a073612e7255c0b93414f208827c1d"
   },
   "outputs": [],
   "source": [
    "# One-hot-Encoding faulty categorical variable as channel\n",
    "new_x = np.zeros((len(x), 26, 26, 3))\n",
    "\n",
    "for w in range(len(x)):\n",
    "    for i in range(26):\n",
    "        for j in range(26):\n",
    "            new_x[w, i, j, int(x[w, i, j])] = 1"
   ]
  },
  {
   "cell_type": "code",
   "execution_count": 16,
   "metadata": {
    "_uuid": "54554a909fb719de0ca277fcf693f4bed416dbc2"
   },
   "outputs": [
    {
     "data": {
      "text/plain": [
       "(14366, 26, 26, 3)"
      ]
     },
     "execution_count": 16,
     "metadata": {},
     "output_type": "execute_result"
    }
   ],
   "source": [
    "#check new x dimension\n",
    "new_x.shape"
   ]
  },
  {
   "cell_type": "markdown",
   "metadata": {
    "_uuid": "5330346f0dccf25331724403406c0e848541fb9a"
   },
   "source": [
    "## Convolutional Autoencoder for augmentation.\n",
    "As solving class imbalanced problem, we need for data augmentation. <br>\n",
    "The wafer data is image data. so we use convolutional autoencoder."
   ]
  },
  {
   "cell_type": "code",
   "execution_count": 17,
   "metadata": {
    "_uuid": "3974e475616075ece755eef50175a8c601cb81d5"
   },
   "outputs": [],
   "source": [
    "# parameter\n",
    "epoch=15\n",
    "batch_size=1024"
   ]
  },
  {
   "cell_type": "code",
   "execution_count": 18,
   "metadata": {
    "_uuid": "cb0d95ec105b12c0c4826aa60b891cf4dd8fe127"
   },
   "outputs": [],
   "source": [
    "# Encoder\n",
    "input_shape = (26, 26, 3)\n",
    "input_tensor = Input(input_shape)\n",
    "encode = layers.Conv2D(64, (3,3), padding='same', activation='relu')(input_tensor)\n",
    "\n",
    "latent_vector = layers.MaxPool2D()(encode)\n",
    "\n",
    "# Decoder\n",
    "decode_layer_1 = layers.Conv2DTranspose(64, (3,3), padding='same', activation='relu')\n",
    "decode_layer_2 = layers.UpSampling2D()\n",
    "output_tensor = layers.Conv2DTranspose(3, (3,3), padding='same', activation='sigmoid')\n",
    "\n",
    "# connect decoder layers\n",
    "decode = decode_layer_1(latent_vector)\n",
    "decode = decode_layer_2(decode)\n",
    "\n",
    "ae = models.Model(input_tensor, output_tensor(decode))\n",
    "ae.compile(optimizer = 'Adam',\n",
    "              loss = 'mse',\n",
    "             )"
   ]
  },
  {
   "cell_type": "markdown",
   "metadata": {
    "_uuid": "99fbcd6bc3cd661d67ca0aba0f08a4cabcfee3ae"
   },
   "source": [
    "Check summary"
   ]
  },
  {
   "cell_type": "code",
   "execution_count": 19,
   "metadata": {
    "_uuid": "4b89d14eb19b52c6ade0e6d7e854d0d51fb6fef4"
   },
   "outputs": [
    {
     "name": "stdout",
     "output_type": "stream",
     "text": [
      "_________________________________________________________________\n",
      "Layer (type)                 Output Shape              Param #   \n",
      "=================================================================\n",
      "input_1 (InputLayer)         (None, 26, 26, 3)         0         \n",
      "_________________________________________________________________\n",
      "conv2d_1 (Conv2D)            (None, 26, 26, 64)        1792      \n",
      "_________________________________________________________________\n",
      "max_pooling2d_1 (MaxPooling2 (None, 13, 13, 64)        0         \n",
      "_________________________________________________________________\n",
      "conv2d_transpose_1 (Conv2DTr (None, 13, 13, 64)        36928     \n",
      "_________________________________________________________________\n",
      "up_sampling2d_1 (UpSampling2 (None, 26, 26, 64)        0         \n",
      "_________________________________________________________________\n",
      "conv2d_transpose_2 (Conv2DTr (None, 26, 26, 3)         1731      \n",
      "=================================================================\n",
      "Total params: 40,451\n",
      "Trainable params: 40,451\n",
      "Non-trainable params: 0\n",
      "_________________________________________________________________\n"
     ]
    }
   ],
   "source": [
    "ae.summary()"
   ]
  },
  {
   "cell_type": "code",
   "execution_count": 20,
   "metadata": {
    "_uuid": "5c8bcfb8e722a01cad99fe87bb60ec40fe2c21b6"
   },
   "outputs": [
    {
     "name": "stdout",
     "output_type": "stream",
     "text": [
      "Epoch 1/15\n",
      " - 3s - loss: 0.1584\n",
      "Epoch 2/15\n",
      " - 1s - loss: 0.0963\n",
      "Epoch 3/15\n",
      " - 1s - loss: 0.0839\n",
      "Epoch 4/15\n",
      " - 1s - loss: 0.0748\n",
      "Epoch 5/15\n",
      " - 1s - loss: 0.0659\n",
      "Epoch 6/15\n",
      " - 1s - loss: 0.0585\n",
      "Epoch 7/15\n",
      " - 1s - loss: 0.0523\n",
      "Epoch 8/15\n",
      " - 1s - loss: 0.0471\n",
      "Epoch 9/15\n",
      " - 1s - loss: 0.0423\n",
      "Epoch 10/15\n",
      " - 1s - loss: 0.0375\n",
      "Epoch 11/15\n",
      " - 1s - loss: 0.0331\n",
      "Epoch 12/15\n",
      " - 1s - loss: 0.0294\n",
      "Epoch 13/15\n",
      " - 1s - loss: 0.0264\n",
      "Epoch 14/15\n",
      " - 1s - loss: 0.0240\n",
      "Epoch 15/15\n",
      " - 1s - loss: 0.0219\n"
     ]
    },
    {
     "data": {
      "text/plain": [
       "<keras.callbacks.History at 0x7ff5ad517f98>"
      ]
     },
     "execution_count": 20,
     "metadata": {},
     "output_type": "execute_result"
    }
   ],
   "source": [
    "# start train\n",
    "ae.fit(new_x, new_x,\n",
    "       batch_size=batch_size,\n",
    "       epochs=epoch,\n",
    "       verbose=2)"
   ]
  },
  {
   "cell_type": "code",
   "execution_count": 21,
   "metadata": {
    "_uuid": "4359826557dd331ca953b6aae44641f77261c88e"
   },
   "outputs": [],
   "source": [
    "# Make encoder model with part of autoencoder model layers\n",
    "encoder = models.Model(input_tensor, latent_vector)"
   ]
  },
  {
   "cell_type": "code",
   "execution_count": 22,
   "metadata": {
    "_uuid": "ce51970c9636ecee088e2f2bc30c0dcce492dfd6"
   },
   "outputs": [],
   "source": [
    "# Make decoder model with part of autoencoder model layers\n",
    "decoder_input = Input((13, 13, 64))\n",
    "decode = decode_layer_1(decoder_input)\n",
    "decode = decode_layer_2(decode)\n",
    "\n",
    "decoder = models.Model(decoder_input, output_tensor(decode))"
   ]
  },
  {
   "cell_type": "code",
   "execution_count": 23,
   "metadata": {
    "_uuid": "cfc1e4750471ef19c4858f29ace428b261596e8f"
   },
   "outputs": [],
   "source": [
    "# Encode original faulty wafer\n",
    "encoded_x = encoder.predict(new_x)"
   ]
  },
  {
   "cell_type": "code",
   "execution_count": 24,
   "metadata": {
    "_uuid": "cca7e49fc3a5e8206b913f46391f4518b3785274"
   },
   "outputs": [],
   "source": [
    "# Add noise to encoded latent faulty wafers vector.\n",
    "noised_encoded_x = encoded_x + np.random.normal(loc=0, scale=0.1, size = (len(encoded_x), 13, 13, 64))"
   ]
  },
  {
   "cell_type": "code",
   "execution_count": 25,
   "metadata": {
    "_uuid": "bbc99179f3b90b7ba62e3e13db80cd9adb7b8a58"
   },
   "outputs": [
    {
     "data": {
      "text/plain": [
       "<matplotlib.image.AxesImage at 0x7ff584c160f0>"
      ]
     },
     "execution_count": 25,
     "metadata": {},
     "output_type": "execute_result"
    },
    {
     "data": {
      "image/png": "[encoded data removed]",
      "text/plain": [
       "<Figure size 432x288 with 1 Axes>"
      ]
     },
     "metadata": {},
     "output_type": "display_data"
    }
   ],
   "source": [
    "# check original faulty wafer data\n",
    "plt.imshow(np.argmax(new_x[3], axis=2))"
   ]
  },
  {
   "cell_type": "code",
   "execution_count": 26,
   "metadata": {
    "_uuid": "2c34d09b64151c01c6dfd29c33621fb31c666ade"
   },
   "outputs": [
    {
     "data": {
      "text/plain": [
       "<matplotlib.image.AxesImage at 0x7ff5a5839b38>"
      ]
     },
     "execution_count": 26,
     "metadata": {},
     "output_type": "execute_result"
    },
    {
     "data": {
      "image/png": "[encoded data removed]",
      "text/plain": [
       "<Figure size 432x288 with 1 Axes>"
      ]
     },
     "metadata": {},
     "output_type": "display_data"
    }
   ],
   "source": [
    "# check new noised faulty wafer data\n",
    "noised_gen_x = np.argmax(decoder.predict(noised_encoded_x), axis=3)\n",
    "plt.imshow(noised_gen_x[3])"
   ]
  },
  {
   "cell_type": "code",
   "execution_count": 27,
   "metadata": {
    "_uuid": "e4c959ab36890c361c92b9a4616ca8fb60a2ded4"
   },
   "outputs": [
    {
     "data": {
      "text/plain": [
       "<matplotlib.image.AxesImage at 0x7ff5a5952c50>"
      ]
     },
     "execution_count": 27,
     "metadata": {},
     "output_type": "execute_result"
    },
    {
     "data": {
      "image/png": "[encoded data removed]",
      "text/plain": [
       "<Figure size 432x288 with 1 Axes>"
      ]
     },
     "metadata": {},
     "output_type": "display_data"
    }
   ],
   "source": [
    "# check reconstructed original faulty wafer data\n",
    "gen_x = np.argmax(ae.predict(new_x), axis=3)\n",
    "plt.imshow(gen_x[3])"
   ]
  },
  {
   "cell_type": "markdown",
   "metadata": {
    "_uuid": "c29236b3ac68761abb4458fd9bf0138fadb86ab7"
   },
   "source": [
    "## Data augmentation\n",
    "We made convolutional autoencoder model for data augmentation.<br>\n",
    "I just want data has 2000 samples for each case. Let's augment data for all faulty case."
   ]
  },
  {
   "cell_type": "code",
   "execution_count": 28,
   "metadata": {
    "_uuid": "53185d9b371ab1719c7738acb3f391ebb4c731a4"
   },
   "outputs": [],
   "source": [
    "# augment function define\n",
    "def gen_data(wafer, label):\n",
    "    # Encode input wafer\n",
    "    encoded_x = encoder.predict(wafer)\n",
    "    \n",
    "    # dummy array for collecting noised wafer\n",
    "    gen_x = np.zeros((1, 26, 26, 3))\n",
    "    \n",
    "    # Make wafer until total # of wafer to 2000\n",
    "    for i in range((2000//len(wafer)) + 1):\n",
    "        noised_encoded_x = encoded_x + np.random.normal(loc=0, scale=0.1, size = (len(encoded_x), 13, 13, 64)) \n",
    "        noised_gen_x = decoder.predict(noised_encoded_x)\n",
    "        gen_x = np.concatenate((gen_x, noised_gen_x), axis=0)\n",
    "    # also make label vector with same length\n",
    "    gen_y = np.full((len(gen_x), 1), label)\n",
    "    \n",
    "    # return date without 1st dummy data.\n",
    "    return gen_x[1:], gen_y[1:]"
   ]
  },
  {
   "cell_type": "code",
   "execution_count": 29,
   "metadata": {
    "_uuid": "feafb17181cc20ae48402d75789f241d1ae7a5df"
   },
   "outputs": [],
   "source": [
    "# Augmentation for all faulty case.\n",
    "for f in faulty_case : \n",
    "    # skip none case\n",
    "    if f == 'none' : \n",
    "        continue\n",
    "    \n",
    "    gen_x, gen_y = gen_data(new_x[np.where(y==f)[0]], f)\n",
    "    new_x = np.concatenate((new_x, gen_x), axis=0)\n",
    "    y = np.concatenate((y, gen_y))"
   ]
  },
  {
   "cell_type": "code",
   "execution_count": 30,
   "metadata": {
    "_uuid": "312ccd58ce0419f36b8b45aa6a5c3b6992e7045c"
   },
   "outputs": [
    {
     "name": "stdout",
     "output_type": "stream",
     "text": [
      "After Generate new_x shape : (30707, 26, 26, 3), new_y shape : (30707, 1)\n"
     ]
    }
   ],
   "source": [
    "print('After Generate new_x shape : {}, new_y shape : {}'.format(new_x.shape, y.shape))"
   ]
  },
  {
   "cell_type": "code",
   "execution_count": 31,
   "metadata": {
    "_uuid": "6eae1b2b5ea63bbd6ff0f6e10e33377b59ff26c7"
   },
   "outputs": [
    {
     "name": "stdout",
     "output_type": "stream",
     "text": [
      "Center : 2160\n",
      "Donut : 2002\n",
      "Edge-Loc : 2368\n",
      "Edge-Ring : 2046\n",
      "Loc : 2376\n",
      "Near-full : 2032\n",
      "Random : 2146\n",
      "Scratch : 2088\n",
      "none : 13489\n"
     ]
    }
   ],
   "source": [
    "for f in faulty_case :\n",
    "    print('{} : {}'.format(f, len(y[y==f])))"
   ]
  },
  {
   "cell_type": "code",
   "execution_count": 32,
   "metadata": {
    "_uuid": "2c8e55735742f478c4bdbc182cb2cca289c61be6"
   },
   "outputs": [],
   "source": [
    "# choice index without replace.\n",
    "none_idx = np.where(y=='none')[0][np.random.choice(len(np.where(y=='none')[0]), size=11000, replace=False)]"
   ]
  },
  {
   "cell_type": "code",
   "execution_count": 33,
   "metadata": {
    "_uuid": "176736aa682e1865b5c9224abcc497100c07da2c"
   },
   "outputs": [],
   "source": [
    "# delete choiced index data.\n",
    "new_x = np.delete(new_x, none_idx, axis=0)\n",
    "new_y = np.delete(y, none_idx, axis=0)"
   ]
  },
  {
   "cell_type": "code",
   "execution_count": 34,
   "metadata": {
    "_uuid": "984ca3aab008480e2a559d221edb97471b9d20d4"
   },
   "outputs": [
    {
     "name": "stdout",
     "output_type": "stream",
     "text": [
      "After Delete \"none\" class new_x shape : (19707, 26, 26, 3), new_y shape : (19707, 1)\n"
     ]
    }
   ],
   "source": [
    "print('After Delete \"none\" class new_x shape : {}, new_y shape : {}'.format(new_x.shape, new_y.shape))"
   ]
  },
  {
   "cell_type": "code",
   "execution_count": 35,
   "metadata": {
    "_uuid": "f25df666116dad97d9437c632b9f4706fbb36589"
   },
   "outputs": [
    {
     "name": "stdout",
     "output_type": "stream",
     "text": [
      "Center : 2160\n",
      "Donut : 2002\n",
      "Edge-Loc : 2368\n",
      "Edge-Ring : 2046\n",
      "Loc : 2376\n",
      "Near-full : 2032\n",
      "Random : 2146\n",
      "Scratch : 2088\n",
      "none : 2489\n"
     ]
    }
   ],
   "source": [
    "for f in faulty_case :\n",
    "    print('{} : {}'.format(f, len(new_y[new_y==f])))"
   ]
  },
  {
   "cell_type": "code",
   "execution_count": 36,
   "metadata": {
    "_uuid": "8959d413d2ccd403c892a80781669bcd6d77fe16"
   },
   "outputs": [],
   "source": [
    "# make string label data to numerical data\n",
    "for i, l in enumerate(faulty_case):\n",
    "    new_y[new_y==l] = i\n",
    "    \n",
    "# one-hot-encoding\n",
    "new_y = to_categorical(new_y)"
   ]
  },
  {
   "cell_type": "code",
   "execution_count": 37,
   "metadata": {
    "_uuid": "45c97eb59ee98522979105b6b1b127461a2c235b"
   },
   "outputs": [],
   "source": [
    "# split data train, test\n",
    "x_train, x_test, y_train, y_test = train_test_split(new_x, new_y,\n",
    "                                                    test_size=0.33,\n",
    "                                                    random_state=2019)"
   ]
  },
  {
   "cell_type": "code",
   "execution_count": 38,
   "metadata": {
    "_uuid": "a3bf28ea7c89ff2e8045ae48ec38f01c71cfa32f"
   },
   "outputs": [
    {
     "name": "stdout",
     "output_type": "stream",
     "text": [
      "Train x : (13203, 26, 26, 3), y : (13203, 9)\n",
      "Test x: (6504, 26, 26, 3), y : (6504, 9)\n"
     ]
    }
   ],
   "source": [
    "print('Train x : {}, y : {}'.format(x_train.shape, y_train.shape))\n",
    "print('Test x: {}, y : {}'.format(x_test.shape, y_test.shape))"
   ]
  },
  {
   "cell_type": "markdown",
   "metadata": {
    "_uuid": "206ec6d48e82929feec03202705e2d346a29f9c9"
   },
   "source": [
    "## Simple 2D CNN Model\n",
    "The data is ready. As wafer data is image. simply use cnn for classification.<br>\n",
    "### Make model\n",
    "define create model function, because we will validate model with sklearn kfold cross validation."
   ]
  },
  {
   "cell_type": "code",
   "execution_count": 39,
   "metadata": {
    "_uuid": "42a46b48b12a7dc35eb54ea05246a9a3159bde87"
   },
   "outputs": [],
   "source": []
  },
  {
   "cell_type": "code",
   "execution_count": 39,
   "metadata": {
    "_uuid": "33c6ab94582373f7d6e7061639c503f0a0311877"
   },
   "outputs": [],
   "source": [
    "def create_model():\n",
    "    input_shape = (26, 26, 3)\n",
    "    input_tensor = Input(input_shape)\n",
    "\n",
    "    conv_1 = layers.Conv2D(16, (3,3), activation='relu', padding='same')(input_tensor)\n",
    "    conv_2 = layers.Conv2D(64, (3,3), activation='relu', padding='same')(conv_1)\n",
    "    conv_3 = layers.Conv2D(128, (3,3), activation='relu', padding='same')(conv_2)\n",
    "\n",
    "    flat = layers.Flatten()(conv_3)\n",
    "\n",
    "    dense_1 = layers.Dense(512, activation='relu')(flat)\n",
    "    dense_2 = layers.Dense(128, activation='relu')(dense_1)\n",
    "    output_tensor = layers.Dense(9, activation='softmax')(dense_2)\n",
    "\n",
    "    model = models.Model(input_tensor, output_tensor)\n",
    "    model.compile(optimizer='Adam',\n",
    "                 loss='categorical_crossentropy',\n",
    "                 metrics=['accuracy'])\n",
    "\n",
    "    return model"
   ]
  },
  {
   "cell_type": "markdown",
   "metadata": {
    "_uuid": "5811613cd83778f3a2a7aa28a47c362cedbe713f"
   },
   "source": [
    "### Cross validate model\n",
    "Using sklearn KFold Cross validation, we validate our simple cnn."
   ]
  },
  {
   "cell_type": "code",
   "execution_count": 40,
   "metadata": {
    "_uuid": "529c16500f9f80e47f6b4e4ccbfa6c40c6d942e6"
   },
   "outputs": [
    {
     "name": "stdout",
     "output_type": "stream",
     "text": [
      "Epoch 1/10\n",
      " - 8s - loss: 2.0598 - acc: 0.2953\n",
      "Epoch 2/10\n",
      " - 3s - loss: 1.0329 - acc: 0.6693\n",
      "Epoch 3/10\n",
      " - 3s - loss: 0.6643 - acc: 0.7724\n",
      "Epoch 4/10\n",
      " - 3s - loss: 0.6232 - acc: 0.8440\n",
      "Epoch 5/10\n",
      " - 3s - loss: 0.3075 - acc: 0.9162\n",
      "Epoch 6/10\n",
      " - 3s - loss: 0.1709 - acc: 0.9493\n",
      "Epoch 7/10\n",
      " - 3s - loss: 0.1132 - acc: 0.9666\n",
      "Epoch 8/10\n",
      " - 3s - loss: 0.0642 - acc: 0.9830\n",
      "Epoch 9/10\n",
      " - 3s - loss: 0.0393 - acc: 0.9907\n",
      "Epoch 10/10\n",
      " - 3s - loss: 0.0256 - acc: 0.9947\n",
      "Epoch 1/10\n",
      " - 5s - loss: 1.9729 - acc: 0.3556\n",
      "Epoch 2/10\n",
      " - 3s - loss: 0.9592 - acc: 0.6704\n",
      "Epoch 3/10\n",
      " - 3s - loss: 0.6373 - acc: 0.7854\n",
      "Epoch 4/10\n",
      " - 3s - loss: 0.3540 - acc: 0.8963\n",
      "Epoch 5/10\n",
      " - 3s - loss: 0.1719 - acc: 0.9458\n",
      "Epoch 6/10\n",
      " - 3s - loss: 0.0933 - acc: 0.9723\n",
      "Epoch 7/10\n",
      " - 3s - loss: 0.0552 - acc: 0.9853\n",
      "Epoch 8/10\n",
      " - 3s - loss: 0.0387 - acc: 0.9910\n",
      "Epoch 9/10\n",
      " - 3s - loss: 0.0203 - acc: 0.9964\n",
      "Epoch 10/10\n",
      " - 3s - loss: 0.0114 - acc: 0.9982\n",
      "Epoch 1/10\n",
      " - 5s - loss: 2.1462 - acc: 0.3131\n",
      "Epoch 2/10\n",
      " - 3s - loss: 1.0832 - acc: 0.6205\n",
      "Epoch 3/10\n",
      " - 3s - loss: 1.1890 - acc: 0.5932\n",
      "Epoch 4/10\n",
      " - 3s - loss: 0.7430 - acc: 0.7811\n",
      "Epoch 5/10\n",
      " - 3s - loss: 0.3697 - acc: 0.8910\n",
      "Epoch 6/10\n",
      " - 3s - loss: 0.2125 - acc: 0.9323\n",
      "Epoch 7/10\n",
      " - 3s - loss: 0.1939 - acc: 0.9364\n",
      "Epoch 8/10\n",
      " - 3s - loss: 0.1245 - acc: 0.9610\n",
      "Epoch 9/10\n",
      " - 3s - loss: 0.0746 - acc: 0.9803\n",
      "Epoch 10/10\n",
      " - 3s - loss: 0.0484 - acc: 0.9883\n",
      "Simple CNN Cross validation score : 0.9852\n"
     ]
    }
   ],
   "source": [
    "# Make keras model to sklearn classifier.\n",
    "model = KerasClassifier(build_fn=create_model, epochs=10, batch_size=1024, verbose=2) \n",
    "# 3-Fold Crossvalidation\n",
    "kfold = KFold(n_splits=3, shuffle=True, random_state=2019) \n",
    "results = cross_val_score(model, x_train, y_train, cv=kfold)\n",
    "# Check 3-fold model's mean accuracy\n",
    "print('Simple CNN Cross validation score : {:.4f}'.format(np.mean(results)))"
   ]
  },
  {
   "cell_type": "markdown",
   "metadata": {
    "_uuid": "2672e64060160e345bab5fbcc27485d3bb28db03"
   },
   "source": [
    "Our model seems quite a good model."
   ]
  },
  {
   "cell_type": "code",
   "execution_count": 41,
   "metadata": {
    "_uuid": "b46060a3e3821da663c64be53d3277c59f234e95"
   },
   "outputs": [
    {
     "name": "stdout",
     "output_type": "stream",
     "text": [
      "Train on 13203 samples, validate on 6504 samples\n",
      "Epoch 1/15\n",
      " - 9s - loss: 2.0873 - acc: 0.3344 - val_loss: 1.0836 - val_acc: 0.5426\n",
      "Epoch 2/15\n",
      " - 5s - loss: 0.9356 - acc: 0.6673 - val_loss: 0.6034 - val_acc: 0.7728\n",
      "Epoch 3/15\n",
      " - 5s - loss: 0.4821 - acc: 0.8482 - val_loss: 0.3472 - val_acc: 0.8905\n",
      "Epoch 4/15\n",
      " - 5s - loss: 0.2452 - acc: 0.9251 - val_loss: 0.1946 - val_acc: 0.9402\n",
      "Epoch 5/15\n",
      " - 5s - loss: 0.1414 - acc: 0.9603 - val_loss: 0.1181 - val_acc: 0.9642\n",
      "Epoch 6/15\n",
      " - 5s - loss: 0.0772 - acc: 0.9807 - val_loss: 0.0683 - val_acc: 0.9814\n",
      "Epoch 7/15\n",
      " - 5s - loss: 0.0424 - acc: 0.9907 - val_loss: 0.0684 - val_acc: 0.9808\n",
      "Epoch 8/15\n",
      " - 5s - loss: 0.0247 - acc: 0.9948 - val_loss: 0.0428 - val_acc: 0.9879\n",
      "Epoch 9/15\n",
      " - 5s - loss: 0.0140 - acc: 0.9981 - val_loss: 0.0395 - val_acc: 0.9880\n",
      "Epoch 10/15\n",
      " - 5s - loss: 0.0095 - acc: 0.9983 - val_loss: 0.0386 - val_acc: 0.9882\n",
      "Epoch 11/15\n",
      " - 5s - loss: 0.0084 - acc: 0.9986 - val_loss: 0.0413 - val_acc: 0.9863\n",
      "Epoch 12/15\n",
      " - 5s - loss: 0.0077 - acc: 0.9986 - val_loss: 0.0368 - val_acc: 0.9885\n",
      "Epoch 13/15\n",
      " - 5s - loss: 0.0061 - acc: 0.9987 - val_loss: 0.0397 - val_acc: 0.9880\n",
      "Epoch 14/15\n",
      " - 5s - loss: 0.0053 - acc: 0.9990 - val_loss: 0.0371 - val_acc: 0.9885\n",
      "Epoch 15/15\n",
      " - 5s - loss: 0.0051 - acc: 0.9989 - val_loss: 0.0400 - val_acc: 0.9885\n"
     ]
    }
   ],
   "source": [
    "history = model.fit(x_train, y_train,\n",
    "         validation_data=[x_test, y_test],\n",
    "         epochs=epoch,\n",
    "         batch_size=batch_size,\n",
    "         )"
   ]
  },
  {
   "cell_type": "code",
   "execution_count": 42,
   "metadata": {
    "_uuid": "be029459ed4461236a92d3fb9c367b1e9d0ac912"
   },
   "outputs": [
    {
     "data": {
      "image/png": "[encoded data removed]",
      "text/plain": [
       "<Figure size 432x288 with 1 Axes>"
      ]
     },
     "metadata": {},
     "output_type": "display_data"
    },
    {
     "data": {
      "image/png": "[encoded data removed]",
      "text/plain": [
       "<Figure size 432x288 with 1 Axes>"
      ]
     },
     "metadata": {},
     "output_type": "display_data"
    }
   ],
   "source": [
    "# accuracy plot \n",
    "plt.plot(history.history['acc'])\n",
    "plt.plot(history.history['val_acc'])\n",
    "plt.title('model accuracy')\n",
    "plt.ylabel('accuracy')\n",
    "plt.xlabel('epoch')\n",
    "plt.legend(['train', 'test'], loc='upper left')\n",
    "plt.show()\n",
    "\n",
    "# loss plot\n",
    "plt.plot(history.history['loss'])\n",
    "plt.plot(history.history['val_loss'])\n",
    "plt.title('model loss')\n",
    "plt.ylabel('loss')\n",
    "plt.xlabel('epoch')\n",
    "plt.legend(['train', 'test'], loc='upper left')\n",
    "plt.show()"
   ]
  }
 ],
 "metadata": {
  "kernelspec": {
   "display_name": "Python 3",
   "language": "python",
   "name": "python3"
  },
  "language_info": {
   "codemirror_mode": {
    "name": "ipython",
    "version": 3
   },
   "file_extension": ".py",
   "mimetype": "text/x-python",
   "name": "python",
   "nbconvert_exporter": "python",
   "pygments_lexer": "ipython3",
   "version": "3.6.6"
  }
 },
 "nbformat": 4,
 "nbformat_minor": 1
}
