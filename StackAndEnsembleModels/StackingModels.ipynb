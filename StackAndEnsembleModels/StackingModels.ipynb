{
 "cells": [
  {
   "cell_type": "code",
   "execution_count": 1,
   "metadata": {},
   "outputs": [
    {
     "name": "stdout",
     "output_type": "stream",
     "text": [
      "R2 score: 0.81\n"
     ]
    },
    {
     "data": {
      "text/plain": [
       "array([[28.78639592, 28.433658  , 22.62294373],\n",
       "       [35.96334642, 32.58788457, 23.68491013],\n",
       "       [14.97187107, 14.05965525, 16.45282443],\n",
       "       [25.19918869, 25.54000515, 22.92830073],\n",
       "       [18.9335259 , 19.26508705, 17.0351469 ]])"
      ]
     },
     "execution_count": 1,
     "metadata": {},
     "output_type": "execute_result"
    }
   ],
   "source": [
    "#Stacked generalization is a method for combining estimators to reduce their biases [W1992] [HTF]. More precisely, the predictions of each individual estimator are stacked together and used as input to a final estimator to compute the prediction. This final estimator is trained through cross-validation.\n",
    "#from sklearn.linear_model import ElasticNet, Lasso, BayesianRidge, LassoLarsIC, LinearRegression, Ridge\n",
    "from sklearn.ensemble import RandomForestRegressor#, GradientBoostingRegressor, ExtraTreesRegressor, AdaBoostRegressor, BaggingRegressor\n",
    "#from sklearn.kernel_ridge import KernelRidge\n",
    "\n",
    "from sklearn.linear_model import RidgeCV, LassoCV\n",
    "from sklearn.svm import SVR\n",
    "from sklearn.ensemble import GradientBoostingRegressor\n",
    "from sklearn.ensemble import StackingRegressor\n",
    "\n",
    "estimators = [('ridge', RidgeCV()),\n",
    "              ('lasso', LassoCV(random_state=42)),\n",
    "              ('svr', SVR(C=1, gamma=1e-6))]\n",
    "reg = StackingRegressor(\n",
    "    estimators=estimators,\n",
    "    final_estimator=GradientBoostingRegressor(random_state=42))\n",
    "from sklearn.datasets import load_boston\n",
    "X, y = load_boston(return_X_y=True)\n",
    "from sklearn.model_selection import train_test_split\n",
    "X_train, X_test, y_train, y_test = train_test_split(X, y,\n",
    "                                                    random_state=42)\n",
    "reg.fit(X_train, y_train)\n",
    "\n",
    "# During training, the estimators are fitted on the whole training data X_train. They will be used when calling predict or predict_proba. To generalize and avoid over-fitting, the final_estimator is trained on out-samples using sklearn.model_selection.cross_val_predict internally.\n",
    "\n",
    "y_pred = reg.predict(X_test)\n",
    "from sklearn.metrics import r2_score\n",
    "print('R2 score: {:.2f}'.format(r2_score(y_test, y_pred)))\n",
    "\n",
    "reg.transform(X_test[:5])\n"
   ]
  },
  {
   "cell_type": "code",
   "execution_count": null,
   "metadata": {},
   "outputs": [],
   "source": [
    "# Note Multiple stacking layers can be achieved by assigning final_estimator to a StackingClassifier or StackingRegressor:\n",
    "\n",
    "final_layer = StackingRegressor(\n",
    "    estimators=[('rf', RandomForestRegressor(random_state=42)),\n",
    "                ('gbrt', GradientBoostingRegressor(random_state=42))],\n",
    "    final_estimator=RidgeCV()\n",
    "    )\n",
    "multi_layer_regressor = StackingRegressor(\n",
    "    estimators=[('ridge', RidgeCV()),\n",
    "                ('lasso', LassoCV(random_state=42)),\n",
    "                ('svr', SVR(C=1, gamma=1e-6, kernel='rbf'))],\n",
    "    final_estimator=final_layer\n",
    ")\n",
    "multi_layer_regressor.fit(X_train, y_train)\n",
    "print('R2 score: {:.2f}'\n",
    "      .format(multi_layer_regressor.score(X_test, y_test)))\n"
   ]
  }
 ],
 "metadata": {
  "kernelspec": {
   "display_name": "Python 3",
   "language": "python",
   "name": "python3"
  },
  "language_info": {
   "codemirror_mode": {
    "name": "ipython",
    "version": 3
   },
   "file_extension": ".py",
   "mimetype": "text/x-python",
   "name": "python",
   "nbconvert_exporter": "python",
   "pygments_lexer": "ipython3",
   "version": "3.7.7"
  }
 },
 "nbformat": 4,
 "nbformat_minor": 4
}
